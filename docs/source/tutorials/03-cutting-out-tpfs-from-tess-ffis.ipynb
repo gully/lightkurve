{
 "cells": [
  {
   "cell_type": "markdown",
   "metadata": {},
   "source": [
    "# How to cut out Target Pixel Files from Kepler Superstamps or TESS FFIs?\n",
    "\n"
   ]
  },
  {
   "cell_type": "markdown",
   "metadata": {},
   "source": [
    "You can use `lightkurve` to cut Target Pixel Files (TPFs) out of a series of standard astronomical images, such as [K2 Superstamp Mosaics](https://archive.stsci.edu/prepds/k2superstamp/) or TESS Full-Frame-Images (FFIs).\n",
    "This brief tutorial will demonstrate how."
   ]
  },
  {
   "cell_type": "code",
   "execution_count": 1,
   "metadata": {},
   "outputs": [],
   "source": [
    "import lightkurve as lk"
   ]
  },
  {
   "cell_type": "code",
   "execution_count": 2,
   "metadata": {},
   "outputs": [
    {
     "data": {
      "text/plain": [
       "SearchResult containing 1 data products.\n",
       "\n",
       "target_name productFilename         description         distance\n",
       "----------- --------------- --------------------------- --------\n",
       "   HAT-P-11             n/a TESS FFI Cutout (sector 14)      0.0"
      ]
     },
     "execution_count": 2,
     "metadata": {},
     "output_type": "execute_result"
    }
   ],
   "source": [
    "search_result = lk.search_tesscut('HAT-P-11', sector=14)\n",
    "search_result"
   ]
  },
  {
   "cell_type": "markdown",
   "metadata": {},
   "source": [
    "TESS observed the Kepler prime field in Sector 14--- let's see if we can detect planet b.  \n",
    "At the time of writing, the downloading from MAST can be fickle due to 504 HTTP Gateway Timeout errors.  You can increase the logging level to find out more information if the TESScut service is down."
   ]
  },
  {
   "cell_type": "code",
   "execution_count": 3,
   "metadata": {},
   "outputs": [],
   "source": [
    "lk.log.setLevel('INFO')"
   ]
  },
  {
   "cell_type": "code",
   "execution_count": 5,
   "metadata": {},
   "outputs": [],
   "source": [
    "#tpf = search_result.download()"
   ]
  },
  {
   "cell_type": "code",
   "execution_count": 6,
   "metadata": {},
   "outputs": [],
   "source": [
    "#tpf.plot()"
   ]
  },
  {
   "cell_type": "markdown",
   "metadata": {},
   "source": [
    "## Cut out Target Pixel Files from Kepler Superstamps or raw TESS FFIs"
   ]
  },
  {
   "cell_type": "markdown",
   "metadata": {},
   "source": [
    "Let's assume you have downloaded a set of raw TESS FFIs to a local directory called `data`. `lightkurve` will assume that the files are given in *time order*. So you have to sort the filenames first with `glob`:"
   ]
  },
  {
   "cell_type": "code",
   "execution_count": 7,
   "metadata": {},
   "outputs": [],
   "source": [
    "from glob import glob\n",
    "import numpy as np"
   ]
  },
  {
   "cell_type": "markdown",
   "metadata": {},
   "source": [
    "Now we use the `KeplerTargetPixelFile` class and its function `from_fits_images()` to create the new TPF. This will cut out around the position keyword. You can pass a pixel position in units of the original image or RA and Dec coordinates."
   ]
  },
  {
   "cell_type": "code",
   "execution_count": 8,
   "metadata": {},
   "outputs": [],
   "source": [
    "from lightkurve import KeplerTargetPixelFile\n",
    "from astropy.coordinates import SkyCoord"
   ]
  },
  {
   "cell_type": "markdown",
   "metadata": {
    "scrolled": false
   },
   "source": [
    "```python\n",
    "fnames = np.sort(glob('data/*.fits'))\n",
    "tpf = KeplerTargetPixelFile.from_fits_images(images=fnames, \n",
    "                                             position=SkyCoord(257.13700, 24.48958, unit='deg'), \n",
    "                                             size=(9,9),\n",
    "                                             target_id='MyCutOut')\n",
    "```"
   ]
  },
  {
   "cell_type": "markdown",
   "metadata": {},
   "source": [
    "The resulting object is a fully functioning `KeplerTargetPixelFile`.  You can read more about such objects in the [tutorial on their use](https://docs.lightkurve.org/tutorials/01-target-pixel-files.html)."
   ]
  }
 ],
 "metadata": {
  "kernelspec": {
   "display_name": "Python 3",
   "language": "python",
   "name": "python3"
  },
  "language_info": {
   "codemirror_mode": {
    "name": "ipython",
    "version": 3
   },
   "file_extension": ".py",
   "mimetype": "text/x-python",
   "name": "python",
   "nbconvert_exporter": "python",
   "pygments_lexer": "ipython3",
   "version": "3.6.9"
  }
 },
 "nbformat": 4,
 "nbformat_minor": 2
}
